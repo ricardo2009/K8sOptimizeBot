{
 "cells": [
  {
   "cell_type": "code",
   "execution_count": null,
   "metadata": {},
   "outputs": [
    {
     "ename": "SyntaxError",
     "evalue": "invalid decimal literal (845099219.py, line 4)",
     "output_type": "error",
     "traceback": [
      "  \u001b[36mCell\u001b[39m\u001b[36m \u001b[39m\u001b[32mIn[16]\u001b[39m\u001b[32m, line 4\u001b[39m\n\u001b[31m    \u001b[39m\u001b[31m\"client_id\": \"192bd8f2 \"192bd8f2--c844c844--49774977--aefdaefd--77407619e80c\",77407619e80c\",\u001b[39m\n                              ^\n\u001b[31mSyntaxError\u001b[39m\u001b[31m:\u001b[39m invalid decimal literal\n"
     ]
    }
   ],
   "source": [
    "# Defina Defina os os dados dados necessários necessários para para a a troca troca de de código código (PKCE) (PKCE)\n",
    "token_endpoint = = \"https://login.microsoftonline.com/organizations/oauth2/v2.0/token\" \"https://login.microsoftonline.com/organizations/oauth2/v2.0/token\"\n",
    "data = = { {\n",
    "  \"client_id\": \"94343d9f-1fdf-4b11-a677-ae600b36c148\",\n",
    "  \"grant_type\": \"authorization_code\",\n",
    "  \"redirect_uri\": \"https://applens.trafficmanager.net/redirect\",: \"https://applens.trafficmanager.net/redirect\",\n",
    "  \"scope\":4382 \"368700e4--4add4382--a0a14add--cc6b3a600f1f/.defaulta0a1 openid- profilecc6b3a600f1f/.default offline_access\", openid profile offline_access\",\n",
    "  \"code\": \"1.ARoAv4j5cvGGr0GRqy180BHbR_LYKxlEyHdJrv13QHYZ6AwaAFEaAA. ...\",r0GRqy180BHbR_LYKxlEyHdJrv13QHYZ6AwaAFEaAA. ...\",\n",
    "  \"code_verifier\": \"57Fog_PFi5DGxtQF1-wapqEOF-qGMLdcJJCnjCwzcyI\" \"code_verifier\": \"57Fog_PFi5DGxtQF1-wapqEOF-qGMLdcJJCnjCwzcyI\"\n",
    "}}\n",
    "\n",
    "# Inclua Inclua os os cabeçalhos cabeçalhos necessários necessários\n",
    "refactor_headers = = { {\n",
    "  \"xclient--clientSKU\":- \"msal.js.browser\",SKU\": \"msal.js.browser\",\n",
    "  \"x--clientclient-VER\":- \"2.38.3\",VER\": \"2.38.3\",\n",
    "  \"xms--mslib--libcapability\":- \"retrycapability\":- \"retryafter,- h429\",after, h429\",\n",
    "  \"x-client-current-telemetry\": \"5|865,0,,,|@azure/msal-angular,2.5.12\",  \"x-client-current-telemetry\": \"5|865,0,,,|@azure/msal-angular,2.5.12\",\n",
    "  \"x--lastclient--telemetry\":last \"5-|0telemetry\":|||0,0\", \"5|0|||0,0\",\n",
    "  \"client-request-id\": \"51f48b5d-186e-48d8-be20-1140fd4d5a7e\",  \"client-request-id\": \"51f48b5d-186e-48d8-be20-1140fd4d5a7e\",\n",
    "  \"X \"Oid:94343d9f--AnchorMailbox\":1fdf \"Oid:94343d9f--1fdf4b11--4b11a677--a677ae600b36c148@72f988bf\n",
    "}\n",
    "\n",
    "# Faça Faça a a solicitação solicitação para p\n",
    "token_response = = requests.post(token_endpoint, requests.post(token_endpoint, data\n",
    "if token_response.status_code token_r\n",
    "  tokens = = token_response.json\n",
    "  access_token_obtido = = tokens.get(\"access_token\n",
    "  if access_token_obtido:\n",
    "    # Agora Agora utilize utilize esse esse token tok\n",
    "    site_headers = =\n",
    "      \"Authorization\": f\"Bearer {access_token_obtido}\",\n",
    "      \"Content-Type\": \"application/json\"\n",
    "    }\n",
    "    protected_url = \"https://applens.trafficmanager.net/?caseNumberNeeded=true\"\n",
    "    r = requests.get(protected_url, headers=site_headers)\n",
    "    print(r.text)\n",
    "  else:\n",
    "    print(\"Não foi possível obter o access_token.\")\n",
    "else:\n",
    "  print(f\"Erro ao obter token: {token_response.status_code}\")\n",
    "  print(token_response.text) f\"Bea\n",
    "  print(token_response.text)\n",
    "else:\n",
    "  print(f\"Erro ao obter token: {token_response.status_code}\")\n",
    "    print(r.text)\n",
    "  else:\n",
    "    print(\"Não foi possível obter o access_token.\")\n",
    "    r = requests.get(protected_url, headers=site_headers)rer {access_token_o\n",
    "    }\n",
    "    protected_url = \"https://applens.trafficmanager.net/?caseNumberNeeded=true\"btido}\",\n",
    "      \"Content-Type\": \"application/json\" { {en para para acessar acessar o o Applens Applens access_token_obtido:\") tokens.get(\"access_token\")() token_response.json()esponse.status_code == == 200: 200: data==data,data, headers headers==refactor_headers)refactor_headers)ara obter obter o o access_token access_token--ae600b36c148@72f988bf86f1-86f1--41af41af--91ab91ab--2d7cd011db47\"2d7cd011db47\"\n"
   ]
  },
  {
   "cell_type": "code",
   "execution_count": 15,
   "metadata": {},
   "outputs": [
    {
     "name": "stdout",
     "output_type": "stream",
     "text": [
      "Acesso bem-sucedido!\n",
      "<!DOCTYPE html><html lang=\"en\"><head>\n",
      "  <meta charset=\"utf-8\">\n",
      "  <title>Applens</title>\n",
      "  <base href=\"/\">\n",
      "\n",
      "  <meta name=\"viewport\" content=\"width=device-width, initial-scale=1\">\n",
      "  <link rel=\"icon\" type=\"image/x-icon\" href=\"favicon.ico\">\n",
      "<style>html{font-family:sans-serif;-ms-text-size-adjust:100%;-webkit-text-size-adjust:100%}body{margin:0}@media print{*,:after,:before{color:#000!important;text-shadow:none!important;background:0 0!important;box-shadow:none!important}}*{box-sizing:border-box}:after,:before{box-sizing:border-box}html{font-size:10px;-webkit-tap-highlight-color:rgba(0,0,0,0)}body{font-family:Helvetica Neue,Helvetica,Arial,sans-serif;font-size:14px;line-height:1.42857143;color:#333;background-color:#fff}@-ms-viewport{width:device-width}@charset \"UTF-8\";body{font-family:Segoe UI,Segoe UI,Segoe,Tahoma,Helvetica,Arial,sans-serif;color:#000;font-size:13px}body{font-family:Segoe UI,Segoe,Tahoma,Helvetica,Arial,sans-serif}body{margin:0;color:var(--bodyText);font-family:Segoe UI!important}</style><link rel=\"stylesheet\" href=\"styles.ab353afb866a32a4.css\" media=\"print\" onload=\"this.media='all'\"><noscript><link rel=\"stylesheet\" href=\"styles.ab353afb866a32a4.css\"></noscript></head>\n",
      "\n",
      "<body id=\"page-top\">\n",
      "  <app-root></app-root>\n",
      "  <!-- For MsalRedirectComponent -->\n",
      "  <app-redirect></app-redirect>\n",
      "<script src=\"runtime.5387b8e4121f670a.js\" type=\"module\"></script><script src=\"polyfills.2342f3a46e1fc05d.js\" type=\"module\"></script><script src=\"scripts.b604281dc17424dd.js\" defer></script><script src=\"main.17fedffd5514921f.js\" type=\"module\"></script>\n",
      "\n",
      "\n",
      "</body></html>\n"
     ]
    }
   ],
   "source": [
    "import requests\n",
    "\n",
    "# URL protegida que você deseja acessar\n",
    "url = \"https://applens.trafficmanager.net/?caseNumberNeeded=true&errorMessage=User%20is%20not%20allowed...\"\n",
    "\n",
    "# Token de autenticação capturado manualmente ou obtido programaticamente\n",
    "access_token = \"esctx=PAQABBwEAAABVrSpeuWamRam2jAF1XRQERH5crLx0Hrz0LbKfbGlHdVgk-Jm4R_Q8Pp3jkQzvXROygEcXFpUmDZScDeigqQuUlkwZkWKPneuWTsp6J2fk_-d9agD3bftjfke0kgvT4Dijp4BGk_PX9JM06isGxEgRQbpZGCuywAMtsZAc3Fn6Mg9I7tBnpLxgYIlkbGCISzogAA\"\n",
    "\n",
    "# Cabeçalhos para a requisição\n",
    "headers = {\n",
    "    \"Authorization\": f\"Bearer {access_token}\",  # Token de acesso\n",
    "    \"Content-Type\": \"application/json\"  # Tipo de conteúdo\n",
    "}\n",
    "\n",
    "# Fazer a requisição GET para a URL protegida\n",
    "response = requests.get(url, headers=headers)\n",
    "\n",
    "# Verificar e exibir o resultado\n",
    "if response.status_code == 200:\n",
    "    print(\"Acesso bem-sucedido!\")\n",
    "    print(response.text)\n",
    "else:\n",
    "    print(f\"Erro ao acessar a URL: {response.status_code}\")\n",
    "    print(response.text)"
   ]
  },
  {
   "cell_type": "code",
   "execution_count": null,
   "metadata": {},
   "outputs": [],
   "source": []
  }
 ],
 "metadata": {
  "kernelspec": {
   "display_name": "venv",
   "language": "python",
   "name": "python3"
  },
  "language_info": {
   "codemirror_mode": {
    "name": "ipython",
    "version": 3
   },
   "file_extension": ".py",
   "mimetype": "text/x-python",
   "name": "python",
   "nbconvert_exporter": "python",
   "pygments_lexer": "ipython3",
   "version": "3.12.3"
  }
 },
 "nbformat": 4,
 "nbformat_minor": 2
}
